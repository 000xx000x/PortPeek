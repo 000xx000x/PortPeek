import socket

def is_port_open(host, port):
    """
    Check if a given port on a host is open.
    """
    s = socket.socket(socket.AF_INET, socket.SOCK_STREAM)
    s.settimeout(1)  # Set timeout to 1 second
    try:
        s.connect((host, port))
        s.close()
        return True
    except:
        return False

def check_ports(host, ports):
    """
    Check a list of ports on a given host.
    """
    open_ports = []
    for port in ports:
        if is_port_open(host, port):
            open_ports.append(port)
    return open_ports

# List of ports to check
ports_to_check = [21, 22, 23, 25, 53, 80, 110, 143, 443, 445, 3389]

# Get the website name from the user
website = input("Enter the website URL (e.g., example.com): ")

# Resolve the IP address of the website
try:
    ip_address = socket.gethostbyname(website)
    print(f"IP address of {website} is {ip_address}")
except socket.gaierror:
    print("Could not resolve the website URL.")
    exit(1)

# Check the ports
open_ports = check_ports(ip_address, ports_to_check)

# Display the results
if open_ports:
    print(f"The following ports are open on {website}: {', '.join(map(str, open_ports))}")
else:
    print(f"No specified ports are open on {website}.")
